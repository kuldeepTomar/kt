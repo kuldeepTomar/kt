{
 "cells": [
  {
   "cell_type": "code",
   "execution_count": 1,
   "metadata": {},
   "outputs": [
    {
     "name": "stdout",
     "output_type": "stream",
     "text": [
      "enter the period of earth rotation24\n",
      "enter the value of longitude82.5\n",
      "5.5\n",
      "0\n",
      "150.0\n"
     ]
    }
   ],
   "source": [
    "x = int(input(\"enter the period of earth rotation\"))\n",
    "y = float(input(\"enter the value of longitude\"))\n",
    "result = 0\n",
    "def smallangle(x, y):\n",
    "    result = x/360 * y\n",
    "    return result\n",
    "f = smallangle(x, y)\n",
    "h = int(f)\n",
    "m = int(.6 * (f - h))\n",
    "print(f)\n",
    "print(m)\n",
    "def calcAngle(h,m):\n",
    "        if (h < 0 or m < 0 or h > 12 or m > 60): \n",
    "            print('Wrong input') \n",
    "          \n",
    "        if (h == 12): \n",
    "            h = 0\n",
    "        if (m == 60): \n",
    "            m = 0\n",
    " \n",
    "        hour_angle = 0.5 * (h * 60 + m) \n",
    "        minute_angle = 6 * m \n",
    "          \n",
    "      \n",
    "        angle = abs(hour_angle - minute_angle) \n",
    "\n",
    "        angle = min(360 - angle, angle) \n",
    "        return angle\n",
    "t = calcAngle(h,m)\n",
    "print(t)"
   ]
  },
  {
   "cell_type": "code",
   "execution_count": null,
   "metadata": {},
   "outputs": [],
   "source": []
  },
  {
   "cell_type": "code",
   "execution_count": null,
   "metadata": {},
   "outputs": [],
   "source": []
  },
  {
   "cell_type": "code",
   "execution_count": null,
   "metadata": {},
   "outputs": [],
   "source": []
  }
 ],
 "metadata": {
  "kernelspec": {
   "display_name": "Python 3",
   "language": "python",
   "name": "python3"
  },
  "language_info": {
   "codemirror_mode": {
    "name": "ipython",
    "version": 3
   },
   "file_extension": ".py",
   "mimetype": "text/x-python",
   "name": "python",
   "nbconvert_exporter": "python",
   "pygments_lexer": "ipython3",
   "version": "3.7.3"
  }
 },
 "nbformat": 4,
 "nbformat_minor": 2
}
